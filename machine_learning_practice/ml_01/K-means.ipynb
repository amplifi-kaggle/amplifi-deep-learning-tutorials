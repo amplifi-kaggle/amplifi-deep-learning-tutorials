{
 "cells": [
  {
   "cell_type": "markdown",
   "metadata": {},
   "source": [
    "# K-means\n",
    "## Load data and plot it"
   ]
  },
  {
   "cell_type": "code",
   "execution_count": 5,
   "metadata": {},
   "outputs": [
    {
     "name": "stdout",
     "output_type": "stream",
     "text": [
      "Cluster1: (30L, 2L), Cluster2: (30L, 2L)\n"
     ]
    },
    {
     "data": {
      "image/png": "[encoded data removed]",
      "text/plain": [
       "<matplotlib.figure.Figure at 0x9607f28>"
      ]
     },
     "metadata": {},
     "output_type": "display_data"
    }
   ],
   "source": [
    "import numpy as np\n",
    "import scipy.io as sio\n",
    "%matplotlib inline\n",
    "import matplotlib.pyplot as plt\n",
    "\n",
    "# Load synthetic data [dataset1.mat, dataset2.mat, dataset3.mat]\n",
    "data = sio.loadmat('datasets/dataset1.mat')\n",
    "\n",
    "data1_true = np.array(data['x'].T)\n",
    "data2_true = np.array(data['y'].T)\n",
    "print(\"Cluster1: {}, Cluster2: {}\".format(data1_true.shape, data2_true.shape))\n",
    "\n",
    "# Plot the data with true cluster label\n",
    "plt.scatter(data1_true[:, 0], data1_true[:, 1], c='r', marker='.');\n",
    "plt.scatter(data2_true[:, 0], data2_true[:, 1], c='b', marker='.');"
   ]
  },
  {
   "cell_type": "markdown",
   "metadata": {},
   "source": [
    "## Define function for K-means"
   ]
  },
  {
   "cell_type": "code",
   "execution_count": 6,
   "metadata": {},
   "outputs": [],
   "source": [
    "def get_distance_matrix(data, centers):\n",
    "    \"\"\"\n",
    "    Get distance matrix between each point in matrix 'data' and\n",
    "    each point in matrix 'centers'\n",
    "    \n",
    "    Args:\n",
    "        data: 2D-matrix of shape (N * D) where N is the number of data and D is the dimension of data\n",
    "        centers: 2D_matrix of shape (K * D) where K is the number of clusters\n",
    "    Returns:\n",
    "        distance_mat: computed distance matrix of shape (N * K)\n",
    "    \"\"\"\n",
    "    \n",
    "    # Define N, D and K using the discription above with np.shape function\n",
    "    ######## YOUR CODE HERE\n",
    "    \n",
    "    # Initialize distance matrix with zeros\n",
    "    N, D = data.shape\n",
    "    K = centers.shape[0]\n",
    "\n",
    "    # Initialize distance matrix with zeros\n",
    "    distance_mat = np.zeros((N, K))\n",
    "    \n",
    "    # Update distance matrix\n",
    "    ######## YOUR CODE HERE\n",
    "#   for n in range(N):\n",
    "#       for k in range(K):\n",
    "#           distance_mat[n, k] = np.sum((data[n] - centers[k]) ** 2)\n",
    "\n",
    "    for k in range(K):\n",
    "        distance_mat[:, k] = np.sum((data - centers[k]) ** 2, axis=1)\n",
    "    \n",
    "    return distance_mat\n",
    "\n",
    "def get_new_centers(data, K, predicted_cluster):\n",
    "    \"\"\"\n",
    "    Get new centers\n",
    "    \n",
    "    Args:\n",
    "        data: 2D-matrix of shape (N * D) where N is the number of data and D is the dimension of data\n",
    "        K: the number of clusters\n",
    "        predicted_cluster: a vector of shape (N) that has elements assigned cluster for each data point\n",
    "    Returns:\n",
    "        new_centers: new center matrix of shape (K * D)\n",
    "    \"\"\"\n",
    "    \n",
    "    # Define python list\n",
    "    new_centers = []\n",
    "    \n",
    "    # For each center\n",
    "    for k in range(K):\n",
    "        # Find which data point belongs to the cluster k\n",
    "        ######## YOUR CODE HERE\n",
    "        cluster_ind = predicted_cluster == k\n",
    "        x_k = data[cluster_ind]\n",
    "        \n",
    "        \n",
    "        # Compute the new mean from thoes data\n",
    "        ######## YOUR CODE HERE\n",
    "        new_center = np.mean(x_k, axis=0)\n",
    "        \n",
    "        # Append the new center to the python list new_centers\n",
    "        ######## YOUR CODE HERE\n",
    "        new_centers.append(new_center)\n",
    "    \n",
    "    return np.array(new_centers)"
   ]
  },
  {
   "cell_type": "markdown",
   "metadata": {},
   "source": [
    "## Train"
   ]
  },
  {
   "cell_type": "code",
   "execution_count": 7,
   "metadata": {
    "collapsed": true
   },
   "outputs": [],
   "source": [
    "# Merge the data to one matrix\n",
    "data = np.vstack((data1_true, data2_true))\n",
    "\n",
    "K = 2\n",
    "\n",
    "# Initialize centers with K randomly selected data\n",
    "######## YOUR CODE HERE\n",
    "perm = np.random.permutation(len(data))\n",
    "# np.random.randint\n",
    "# np.random.choice\n",
    "centers = data[perm[:K]]\n",
    "\n",
    "max_iter = 2000\n",
    "for step in range(max_iter):\n",
    "    # Get pairwise distance of input dat and centers\n",
    "    distance_mat = get_distance_matrix(data, centers)\n",
    "    # Determine which data belong to which class\n",
    "    ######## YOUR CODE HERE\n",
    "    predicted_cluster = np.argmin(distance_mat, axis=1)\n",
    "    # Get new centers\n",
    "    centers = get_new_centers(data, K, predicted_cluster)"
   ]
  },
  {
   "cell_type": "markdown",
   "metadata": {},
   "source": [
    "## Compare true clusters and predicted clusters"
   ]
  },
  {
   "cell_type": "code",
   "execution_count": 8,
   "metadata": {},
   "outputs": [
    {
     "name": "stdout",
     "output_type": "stream",
     "text": [
      "Prediction | Cluster1: (30L, 2L), Cluster2: (30L, 2L)\n",
      "True       | Cluster1: (30L, 2L), Cluster2: (30L, 2L)\n"
     ]
    },
    {
     "data": {
      "image/png": "[encoded data removed]",
      "text/plain": [
       "<matplotlib.figure.Figure at 0xa7b3f98>"
      ]
     },
     "metadata": {},
     "output_type": "display_data"
    }
   ],
   "source": [
    "data1 = data[predicted_cluster == 0]\n",
    "data2 = data[predicted_cluster == 1]\n",
    "print(\"Prediction | Cluster1: {}, Cluster2: {}\".format(data1.shape, data2.shape))\n",
    "print(\"True       | Cluster1: {}, Cluster2: {}\".format(data1_true.shape, data2_true.shape))\n",
    "\n",
    "# Plot the data and compare it with true labeled data\n",
    "f, axarr = plt.subplots(1, 2, sharey=True, figsize=(14, 5))\n",
    "axarr[0].scatter(centers[0, 0], centers[0, 1], c='k', marker='x', s=70, linewidth=3);\n",
    "axarr[0].scatter(centers[1, 0], centers[1, 1], c='k', marker='x', s=70, linewidth=3);\n",
    "axarr[0].scatter(data1[:, 0], data1[:, 1], c='r', marker='.');\n",
    "axarr[0].scatter(data2[:, 0], data2[:, 1], c='b', marker='.');\n",
    "axarr[0].set_title('Prediction');\n",
    "axarr[1].scatter(data1_true[:, 0], data1_true[:, 1], c='r', marker='.');\n",
    "axarr[1].scatter(data2_true[:, 0], data2_true[:, 1], c='b', marker='.');\n",
    "axarr[1].set_title('True');"
   ]
  },
  {
   "cell_type": "markdown",
   "metadata": {},
   "source": [
    "## Evaluate how well K-means clustered data"
   ]
  },
  {
   "cell_type": "code",
   "execution_count": 15,
   "metadata": {},
   "outputs": [
    {
     "name": "stdout",
     "output_type": "stream",
     "text": [
      "Nomrlized Mutual Information: 4.90689059703\n"
     ]
    }
   ],
   "source": [
    "# Evaluate clustering performance using Normalized Mutual Information\n",
    "def get_NMI(true_cluster, predicted_cluster, K):\n",
    "    \"\"\"\n",
    "    Get Normalized Mutual Information\n",
    "    \n",
    "    Args:\n",
    "        true_cluster: a vector of shape (N) that has elements assigned true cluster for each data point\n",
    "        predicted_cluster: a vector of shape (N) that has elements assigned predicted cluster for each data point\n",
    "        K: the number of clusters\n",
    "    Returns:\n",
    "        nmi: Normalized mutual information\n",
    "    \"\"\"\n",
    "    # very little value to prevent logarithm from -infinity\n",
    "    eps = 1e-10\n",
    "    \n",
    "    # Define the number of data\n",
    "    N = float(data.shape[0])\n",
    "    \n",
    "    true_entropy = 0\n",
    "    predicted_entropy = 0\n",
    "    # Compute entropy for ground truth clusters and predicted clusters\n",
    "    ######## YOUR CODE HERE\n",
    "    for k in range(K):\n",
    "        true_ctr = np.sum(true_cluster == k)\n",
    "        predicted_ctr = np.sum(predicted_cluster == k)\n",
    "        true_entropy += -(true_ctr / N) \\\n",
    "            * np.log2(true_ctr / N + eps)\n",
    "        predicted_entropy += -(predicted_ctr / N) \\\n",
    "            * np.log2(predicted_ctr / N + eps)\n",
    "    \n",
    "    \n",
    "    denominator = (true_entropy + predicted_entropy) / 2.\n",
    "    \n",
    "    mi = 0\n",
    "    # Compute mutual information between ground truth clusters and predicted clusters\n",
    "    ######## YOUR CODE HERE\n",
    "    for i in range(K):\n",
    "        for j in range(K):\n",
    "            true_k = true_cluster == i\n",
    "            predicted_k = predicted_cluster == j\n",
    "            inter_ctr = np.sum(true_k & predicted_k)\n",
    "            true_ctr = np.sum(true_k)\n",
    "            predicted_ctr = np.sum(predicted_k)\n",
    "            mi += (inter_ctr / N) * np.log2((N * inter_ctr) / (true_ctr + predicted_ctr) + eps)\n",
    "    \n",
    "    \n",
    "    nmi = mi / denominator\n",
    "    \n",
    "    return nmi\n",
    "\n",
    "true_cluster = np.concatenate((np.zeros(data1_true.shape[0]), np.ones(data2_true.shape[0])))\n",
    "nmi = get_NMI(true_cluster, predicted_cluster, K)\n",
    "print(\"Nomrlized Mutual Information: {}\".format(nmi))"
   ]
  },
  {
   "cell_type": "code",
   "execution_count": null,
   "metadata": {
    "collapsed": true
   },
   "outputs": [],
   "source": []
  },
  {
   "cell_type": "code",
   "execution_count": null,
   "metadata": {
    "collapsed": true
   },
   "outputs": [],
   "source": []
  },
  {
   "cell_type": "code",
   "execution_count": null,
   "metadata": {
    "collapsed": true
   },
   "outputs": [],
   "source": []
  },
  {
   "cell_type": "code",
   "execution_count": null,
   "metadata": {
    "collapsed": true
   },
   "outputs": [],
   "source": []
  }
 ],
 "metadata": {
  "kernelspec": {
   "display_name": "Python 2",
   "language": "python",
   "name": "python2"
  },
  "language_info": {
   "codemirror_mode": {
    "name": "ipython",
    "version": 2
   },
   "file_extension": ".py",
   "mimetype": "text/x-python",
   "name": "python",
   "nbconvert_exporter": "python",
   "pygments_lexer": "ipython2",
   "version": "2.7.13"
  }
 },
 "nbformat": 4,
 "nbformat_minor": 2
}
