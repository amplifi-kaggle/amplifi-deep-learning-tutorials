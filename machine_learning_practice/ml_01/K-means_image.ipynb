{
 "cells": [
  {
   "cell_type": "code",
   "execution_count": null,
   "metadata": {
    "collapsed": true
   },
   "outputs": [],
   "source": [
    "import numpy as np\n",
    "%matplotlib inline\n",
    "import matplotlib.pyplot as plt\n",
    "import matplotlib.image as mpimg\n",
    "\n",
    "# Load image data [airplane.jpg, tiger.jpg]\n",
    "img = mpimg.imread('datasets/airplane.jpg')\n",
    "\n",
    "# Show image\n",
    "plt.imshow(img);\n",
    "print img.shape"
   ]
  },
  {
   "cell_type": "code",
   "execution_count": null,
   "metadata": {
    "collapsed": true
   },
   "outputs": [],
   "source": [
    "def get_distance_matrix(data, centers):\n",
    "    \"\"\"\n",
    "    Get distance matrix between each point in matrix 'data' and\n",
    "    each point in matrix 'centers'\n",
    "    \n",
    "    Args:\n",
    "        data: 2D-matrix of shape (N * D) where N is the number of data and D is the dimension of data\n",
    "        centers: 2D_matrix of shape (K * D) where K is the number of clusters\n",
    "    Returns:\n",
    "        distance_mat: computed distance matrix of shape (N * K)\n",
    "    \"\"\"\n",
    "    \n",
    "    # Define N, D and K using the discription above with np.shape function\n",
    "    ######## YOUR CODE HERE\n",
    "    \n",
    "    # Initialize distance matrix with zeros\n",
    "    distance_mat = ######## YOUR CODE HERE\n",
    "    \n",
    "    # Update distance matrix\n",
    "    ######## YOUR CODE HERE\n",
    "    \n",
    "    return distance_mat\n",
    "\n",
    "def get_new_centers(data, K, predicted_cluster):\n",
    "    \"\"\"\n",
    "    Get new centers\n",
    "    \n",
    "    Args:\n",
    "        data: 2D-matrix of shape (N * D) where N is the number of data and D is the dimension of data\n",
    "        K: the number of clusters\n",
    "        predicted_cluster: a vector of shape (N) that has elements assigned cluster for each data point\n",
    "    Returns:\n",
    "        new_centers: new center matrix of shape (K * D)\n",
    "    \"\"\"\n",
    "    \n",
    "    # Define python list\n",
    "    new_centers = []\n",
    "    \n",
    "    # For each center\n",
    "    for k in range(K):\n",
    "        # Find which data point belongs to the cluster k\n",
    "        ######## YOUR CODE HERE\n",
    "        \n",
    "        # Compute the new mean from thoes data\n",
    "        ######## YOUR CODE HERE\n",
    "        \n",
    "        # Append the new center to the python list new_centers\n",
    "        ######## YOUR CODE HERE\n",
    "    \n",
    "    return np.array(new_centers)"
   ]
  },
  {
   "cell_type": "code",
   "execution_count": null,
   "metadata": {
    "collapsed": true
   },
   "outputs": [],
   "source": [
    "# Set arbitrary K\n",
    "K = 2\n",
    "\n",
    "# Reshape 3D-matrix image to 2D-matrix data\n",
    "data = ######## YOUR CODE HERE\n",
    "\n",
    "# Initialize centers with K randomly selected data\n",
    " ######## YOUR CODE HERE\n",
    "\n",
    "max_iter = 100\n",
    "for step in range(max_iter):\n",
    "    # Get pairwise distance of input dat and centers\n",
    "    distance_mat = get_distance_matrix(data, centers)\n",
    "    # Determine which data belong to which class\n",
    "    cluster_indices = ######## YOUR CODE HERE\n",
    "    # Get new centers\n",
    "    centers = get_new_centers(data, K, cluster_indices)"
   ]
  },
  {
   "cell_type": "code",
   "execution_count": null,
   "metadata": {
    "collapsed": true
   },
   "outputs": [],
   "source": [
    "# Make segmented data\n",
    "######## YOUR CODE HERE\n",
    "    \n",
    "# Show segmented image and compare it with true image\n",
    "f, axarr = plt.subplots(1, 2, sharey=True, figsize=(14, 5))\n",
    "axarr[0].imshow(segmented_img);\n",
    "axarr[0].set_title('Segmented Image');\n",
    "axarr[1].imshow(img);\n",
    "axarr[1].set_title('Image');"
   ]
  }
 ],
 "metadata": {
  "kernelspec": {
   "display_name": "Python 2",
   "language": "python",
   "name": "python2"
  },
  "language_info": {
   "codemirror_mode": {
    "name": "ipython",
    "version": 2
   },
   "file_extension": ".py",
   "mimetype": "text/x-python",
   "name": "python",
   "nbconvert_exporter": "python",
   "pygments_lexer": "ipython2",
   "version": "2.7.12"
  }
 },
 "nbformat": 4,
 "nbformat_minor": 2
}
