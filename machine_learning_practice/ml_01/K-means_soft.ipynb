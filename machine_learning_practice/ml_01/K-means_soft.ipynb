{
 "cells": [
  {
   "cell_type": "markdown",
   "metadata": {},
   "source": [
    "# Soft K-means\n",
    "## Load data and plot it"
   ]
  },
  {
   "cell_type": "code",
   "execution_count": null,
   "metadata": {
    "collapsed": true
   },
   "outputs": [],
   "source": [
    "import numpy as np\n",
    "import scipy.io as sio\n",
    "%matplotlib inline\n",
    "import matplotlib.pyplot as plt\n",
    "\n",
    "# Load synthetic data [dataset1.mat, dataset2.mat, dataset3.mat]\n",
    "data = sio.loadmat('datasets/dataset1.mat')\n",
    "\n",
    "data1_true = np.array(data['x'].T)\n",
    "data2_true = np.array(data['y'].T)\n",
    "print(\"Cluster1: {}, Cluster2: {}\".format(data1_true.shape, data2_true.shape))\n",
    "\n",
    "# Plot the data with true cluster label\n",
    "plt.scatter(data1_true[:, 0], data1_true[:, 1], c='r', marker='.');\n",
    "plt.scatter(data2_true[:, 0], data2_true[:, 1], c='b', marker='.');"
   ]
  },
  {
   "cell_type": "markdown",
   "metadata": {},
   "source": [
    "## Train"
   ]
  },
  {
   "cell_type": "code",
   "execution_count": null,
   "metadata": {
    "collapsed": true
   },
   "outputs": [],
   "source": [
    "# Merge the data to one matrix\n",
    "data = np.vstack((data1_true, data2_true))\n",
    "\n",
    "K = 2\n",
    "N = data.shape[0]\n",
    "\n",
    "# Initialize centers with K randomly selected data\n",
    "######## YOUR CODE HERE\n",
    "import random\n",
    "centers = random.sample(data, K)\n",
    "\n",
    "\n",
    "# Initialize responsibilities with zeros (N, K)\n",
    "######## YOUR CODE HERE\n",
    "resp = np.zeros((N, K))\n",
    "\n",
    "beta = 0.1\n",
    "max_iter = 2000\n",
    "for step in range(max_iter):\n",
    "    # Assign\n",
    "    ######## YOUR CODE HERE\n",
    "    x_minus_mu = np.expand_dims(data, 1) - np.expand_dims(centers, 0)\n",
    "    numerator = np.exp(-beta * np.sum(x_minus_mu ** 2, 2))\n",
    "    resp = numerator / np.sum(numerator, 1, keepdims=True)\n",
    "    # Update\n",
    "    ######## YOUR CODE HERE\n",
    "    centers = (np.matmul(data.T, resp) / np.sum(resp, 0, keepdims=True)).T\n",
    "    \n",
    "\n",
    "predicted_cluster = np.argmax(resp, axis=1)"
   ]
  },
  {
   "cell_type": "markdown",
   "metadata": {},
   "source": [
    "## Compare true clusters and predicted clusters"
   ]
  },
  {
   "cell_type": "code",
   "execution_count": null,
   "metadata": {
    "collapsed": true
   },
   "outputs": [],
   "source": [
    "data1 = data[predicted_cluster == 0]\n",
    "data2 = data[predicted_cluster == 1]\n",
    "print(\"Prediction | Cluster1: {}, Cluster2: {}\".format(data1.shape, data2.shape))\n",
    "print(\"True       | Cluster1: {}, Cluster2: {}\".format(data1_true.shape, data2_true.shape))\n",
    "\n",
    "# Plot the data and compare it with true labeled data\n",
    "f, axarr = plt.subplots(1, 2, sharey=True, figsize=(14, 5))\n",
    "axarr[0].scatter(centers[0, 0], centers[0, 1], c='k', marker='x', s=70, linewidth=3);\n",
    "axarr[0].scatter(centers[1, 0], centers[1, 1], c='k', marker='x', s=70, linewidth=3);\n",
    "axarr[0].scatter(data1[:, 0], data1[:, 1], c='r', marker='.');\n",
    "axarr[0].scatter(data2[:, 0], data2[:, 1], c='b', marker='.');\n",
    "axarr[0].set_title('Prediction');\n",
    "axarr[1].scatter(data1_true[:, 0], data1_true[:, 1], c='r', marker='.');\n",
    "axarr[1].scatter(data2_true[:, 0], data2_true[:, 1], c='b', marker='.');\n",
    "axarr[1].set_title('True');"
   ]
  },
  {
   "cell_type": "markdown",
   "metadata": {},
   "source": [
    "## Evaluate how well K-means clustered data"
   ]
  },
  {
   "cell_type": "code",
   "execution_count": null,
   "metadata": {
    "collapsed": true
   },
   "outputs": [],
   "source": [
    "# Evaluate clustering performance using Normalized Mutual Information\n",
    "def get_NMI(true_cluster, predicted_cluster, K):\n",
    "    \"\"\"\n",
    "    Get Normalized Mutual Information\n",
    "    \n",
    "    Args:\n",
    "        true_cluster: a vector of shape (N) that has elements assigned true cluster for each data point\n",
    "        predicted_cluster: a vector of shape (N) that has elements assigned predicted cluster for each data point\n",
    "        K: the number of clusters\n",
    "    Returns:\n",
    "        nmi: Normalized mutual information\n",
    "    \"\"\"\n",
    "    # very little value to prevent logarithm from -infinity\n",
    "    eps = 1e-10\n",
    "    \n",
    "    # Define the number of data\n",
    "    N = float(data.shape[0])\n",
    "    \n",
    "    true_entropy = 0\n",
    "    predicted_entropy = 0\n",
    "    # Compute entropy for ground truth clusters and predicted clusters\n",
    "    ######## YOUR CODE HERE\n",
    "    \n",
    "    denominator = (true_entropy + predicted_entropy) / 2.\n",
    "    \n",
    "    mi = 0\n",
    "    # Compute mutual information between ground truth clusters and predicted clusters\n",
    "    ######## YOUR CODE HERE\n",
    "    \n",
    "    \n",
    "    nmi = mi / denominator\n",
    "    \n",
    "    return nmi\n",
    "\n",
    "true_cluster = np.concatenate((np.zeros(data1_true.shape[0]), np.ones(data2_true.shape[0])))\n",
    "nmi = get_NMI(true_cluster, predicted_cluster, K)\n",
    "print(\"Nomrlized Mutual Information: {}\".format(nmi))"
   ]
  }
 ],
 "metadata": {
  "kernelspec": {
   "display_name": "Python 2",
   "language": "python",
   "name": "python2"
  },
  "language_info": {
   "codemirror_mode": {
    "name": "ipython",
    "version": 2
   },
   "file_extension": ".py",
   "mimetype": "text/x-python",
   "name": "python",
   "nbconvert_exporter": "python",
   "pygments_lexer": "ipython2",
   "version": "2.7.13"
  }
 },
 "nbformat": 4,
 "nbformat_minor": 2
}
