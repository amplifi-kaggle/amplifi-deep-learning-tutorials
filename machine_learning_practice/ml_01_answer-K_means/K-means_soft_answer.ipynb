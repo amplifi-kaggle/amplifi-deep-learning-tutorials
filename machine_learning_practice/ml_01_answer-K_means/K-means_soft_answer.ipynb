{
 "cells": [
  {
   "cell_type": "markdown",
   "metadata": {},
   "source": [
    "# Soft K-means\n",
    "## Load data and plot it"
   ]
  },
  {
   "cell_type": "code",
   "execution_count": 1,
   "metadata": {},
   "outputs": [
    {
     "name": "stdout",
     "output_type": "stream",
     "text": [
      "Cluster1: (30L, 2L), Cluster2: (30L, 2L)\n"
     ]
    },
    {
     "data": {
      "image/png": "[encoded data removed]",
      "text/plain": [
       "<matplotlib.figure.Figure at 0x67c80f0>"
      ]
     },
     "metadata": {},
     "output_type": "display_data"
    }
   ],
   "source": [
    "import numpy as np\n",
    "import scipy.io as sio\n",
    "%matplotlib inline\n",
    "import matplotlib.pyplot as plt\n",
    "\n",
    "# Load synthetic data [dataset1.mat, dataset2.mat, dataset3.mat]\n",
    "data = sio.loadmat('datasets/dataset1.mat')\n",
    "\n",
    "data1_true = np.array(data['x'].T)\n",
    "data2_true = np.array(data['y'].T)\n",
    "print(\"Cluster1: {}, Cluster2: {}\".format(data1_true.shape, data2_true.shape))\n",
    "\n",
    "# Plot the data with true cluster label\n",
    "plt.scatter(data1_true[:, 0], data1_true[:, 1], c='r', marker='.');\n",
    "plt.scatter(data2_true[:, 0], data2_true[:, 1], c='b', marker='.');"
   ]
  },
  {
   "cell_type": "markdown",
   "metadata": {},
   "source": [
    "## Define function for K-means"
   ]
  },
  {
   "cell_type": "code",
   "execution_count": 2,
   "metadata": {
    "collapsed": true
   },
   "outputs": [],
   "source": [
    "def get_distance_matrix(data, centers):\n",
    "    \"\"\"\n",
    "    Get distance matrix between each point in matrix 'data' and\n",
    "    each point in matrix 'centers'\n",
    "    \n",
    "    Args:\n",
    "        data: 2D-matrix of shape (N * D) where N is the number of data and D is the dimension of data\n",
    "        centers: 2D_matrix of shape (K * D) where K is the number of clusters\n",
    "    Returns:\n",
    "        distance_mat: computed distance matrix of shape (N * K)\n",
    "    \"\"\"\n",
    "    \n",
    "    # Define N, D and K using the discription above with np.shape function\n",
    "    N, D = data.shape\n",
    "    K = centers.shape[0]\n",
    "    \n",
    "    # Initialize distance matrix with zeros\n",
    "    distance_mat = np.zeros((N, K))\n",
    "    \n",
    "    # Update distance matrix\n",
    "    for k in range(K):\n",
    "        distance_mat[:, k] = np.sqrt(np.sum((data - centers[k]) ** 2, axis=1))\n",
    "    \n",
    "    return distance_mat\n",
    "\n",
    "def get_new_centers(data, K, predicted_cluster):\n",
    "    \"\"\"\n",
    "    Get new centers\n",
    "    \n",
    "    Args:\n",
    "        data: 2D-matrix of shape (N * D) where N is the number of data and D is the dimension of data\n",
    "        K: the number of clusters\n",
    "        predicted_cluster: a vector of shape (N) that has elements assigned cluster for each data point\n",
    "    Returns:\n",
    "        new_centers: new center matrix of shape (K * D)\n",
    "    \"\"\"\n",
    "    \n",
    "    # Define python list\n",
    "    new_centers = []\n",
    "    \n",
    "    # For each center\n",
    "    for k in range(K):\n",
    "        # Find which data point belongs to the cluster k\n",
    "        cluster_index = predicted_cluster == k\n",
    "        x_k = data[cluster_index]\n",
    "        \n",
    "        # Compute the new mean from thoes data\n",
    "        new_center = np.mean(x_k, axis=0)\n",
    "        \n",
    "        # Append the new center to the python list new_centers\n",
    "        new_centers.append(new_center)\n",
    "    \n",
    "    return np.array(new_centers)"
   ]
  },
  {
   "cell_type": "markdown",
   "metadata": {},
   "source": [
    "## Train"
   ]
  },
  {
   "cell_type": "code",
   "execution_count": 3,
   "metadata": {
    "collapsed": true
   },
   "outputs": [],
   "source": [
    "# Merge the data to one matrix\n",
    "data = np.vstack((data1_true, data2_true))\n",
    "\n",
    "K = 2\n",
    "N = data.shape[0]\n",
    "\n",
    "# Initialize centers with K randomly selected data\n",
    "permu = np.random.permutation(len(data))\n",
    "centers = data[permu[:K]]\n",
    "# Initialize responsibilities\n",
    "resp = np.zeros((N, K))\n",
    "\n",
    "beta = 0.001\n",
    "max_iter = 2000\n",
    "for step in range(max_iter):\n",
    "    # Assign\n",
    "    x_minus_mu = np.expand_dims(data, 1) - np.expand_dims(centers, 0)\n",
    "    numerator = np.exp(-beta * np.sum(x_minus_mu ** 2, 2))\n",
    "    resp = numerator / np.sum(numerator, 1, keepdims=True)\n",
    "    # Update\n",
    "    centers = (np.matmul(data.T, resp)/ np.sum(resp, 0, keepdims=True)).T\n",
    "\n",
    "predicted_cluster = np.argmax(resp, axis=1)"
   ]
  },
  {
   "cell_type": "markdown",
   "metadata": {},
   "source": [
    "## Compare true clusters and predicted clusters"
   ]
  },
  {
   "cell_type": "code",
   "execution_count": 4,
   "metadata": {},
   "outputs": [
    {
     "name": "stdout",
     "output_type": "stream",
     "text": [
      "Prediction | Cluster1: (60L, 2L), Cluster2: (0L, 2L)\n",
      "True       | Cluster1: (30L, 2L), Cluster2: (30L, 2L)\n"
     ]
    },
    {
     "data": {
      "image/png": "[encoded data removed]",
      "text/plain": [
       "<matplotlib.figure.Figure at 0xa711400>"
      ]
     },
     "metadata": {},
     "output_type": "display_data"
    }
   ],
   "source": [
    "data1 = data[predicted_cluster == 0]\n",
    "data2 = data[predicted_cluster == 1]\n",
    "print(\"Prediction | Cluster1: {}, Cluster2: {}\".format(data1.shape, data2.shape))\n",
    "print(\"True       | Cluster1: {}, Cluster2: {}\".format(data1_true.shape, data2_true.shape))\n",
    "\n",
    "# Plot the data and compare it with true labeled data\n",
    "f, axarr = plt.subplots(1, 2, sharey=True, figsize=(14, 5))\n",
    "axarr[0].scatter(centers[0, 0], centers[0, 1], c='k', marker='x', s=70, linewidth=3);\n",
    "axarr[0].scatter(centers[1, 0], centers[1, 1], c='k', marker='x', s=70, linewidth=3);\n",
    "axarr[0].scatter(data1[:, 0], data1[:, 1], c='r', marker='.');\n",
    "axarr[0].scatter(data2[:, 0], data2[:, 1], c='b', marker='.');\n",
    "axarr[0].set_title('Prediction');\n",
    "axarr[1].scatter(data1_true[:, 0], data1_true[:, 1], c='r', marker='.');\n",
    "axarr[1].scatter(data2_true[:, 0], data2_true[:, 1], c='b', marker='.');\n",
    "axarr[1].set_title('True');"
   ]
  },
  {
   "cell_type": "markdown",
   "metadata": {},
   "source": [
    "## Evaluate how well K-means clustered data"
   ]
  },
  {
   "cell_type": "code",
   "execution_count": 5,
   "metadata": {},
   "outputs": [
    {
     "ename": "ZeroDivisionError",
     "evalue": "float division by zero",
     "output_type": "error",
     "traceback": [
      "\u001b[1;31m---------------------------------------------------\u001b[0m",
      "\u001b[1;31mZeroDivisionError\u001b[0m Traceback (most recent call last)",
      "\u001b[1;32m<ipython-input-5-cbdc022d2a33>\u001b[0m in \u001b[0;36m<module>\u001b[1;34m()\u001b[0m\n\u001b[0;32m     44\u001b[0m \u001b[1;33m\u001b[0m\u001b[0m\n\u001b[0;32m     45\u001b[0m \u001b[0mtrue_cluster\u001b[0m \u001b[1;33m=\u001b[0m \u001b[0mnp\u001b[0m\u001b[1;33m.\u001b[0m\u001b[0mconcatenate\u001b[0m\u001b[1;33m(\u001b[0m\u001b[1;33m(\u001b[0m\u001b[0mnp\u001b[0m\u001b[1;33m.\u001b[0m\u001b[0mzeros\u001b[0m\u001b[1;33m(\u001b[0m\u001b[0mdata1_true\u001b[0m\u001b[1;33m.\u001b[0m\u001b[0mshape\u001b[0m\u001b[1;33m[\u001b[0m\u001b[1;36m0\u001b[0m\u001b[1;33m]\u001b[0m\u001b[1;33m)\u001b[0m\u001b[1;33m,\u001b[0m \u001b[0mnp\u001b[0m\u001b[1;33m.\u001b[0m\u001b[0mones\u001b[0m\u001b[1;33m(\u001b[0m\u001b[0mdata2_true\u001b[0m\u001b[1;33m.\u001b[0m\u001b[0mshape\u001b[0m\u001b[1;33m[\u001b[0m\u001b[1;36m0\u001b[0m\u001b[1;33m]\u001b[0m\u001b[1;33m)\u001b[0m\u001b[1;33m)\u001b[0m\u001b[1;33m)\u001b[0m\u001b[1;33m\u001b[0m\u001b[0m\n\u001b[1;32m---> 46\u001b[1;33m \u001b[0mnmi\u001b[0m \u001b[1;33m=\u001b[0m \u001b[0mget_NMI\u001b[0m\u001b[1;33m(\u001b[0m\u001b[0mtrue_cluster\u001b[0m\u001b[1;33m,\u001b[0m \u001b[0mpredicted_cluster\u001b[0m\u001b[1;33m,\u001b[0m \u001b[0mK\u001b[0m\u001b[1;33m)\u001b[0m\u001b[1;33m\u001b[0m\u001b[0m\n\u001b[0m\u001b[0;32m     47\u001b[0m \u001b[1;32mprint\u001b[0m\u001b[1;33m(\u001b[0m\u001b[1;34m\"Nomrlized Mutual Information: {}\"\u001b[0m\u001b[1;33m.\u001b[0m\u001b[0mformat\u001b[0m\u001b[1;33m(\u001b[0m\u001b[0mnmi\u001b[0m\u001b[1;33m)\u001b[0m\u001b[1;33m)\u001b[0m\u001b[1;33m\u001b[0m\u001b[0m\n",
      "\u001b[1;32m<ipython-input-5-cbdc022d2a33>\u001b[0m in \u001b[0;36mget_NMI\u001b[1;34m(true_cluster, predicted_cluster, K)\u001b[0m\n\u001b[0;32m     37\u001b[0m             \u001b[0mtrue_ctr\u001b[0m \u001b[1;33m=\u001b[0m \u001b[0mnp\u001b[0m\u001b[1;33m.\u001b[0m\u001b[0msum\u001b[0m\u001b[1;33m(\u001b[0m\u001b[0mtrue_k\u001b[0m\u001b[1;33m)\u001b[0m\u001b[1;33m\u001b[0m\u001b[0m\n\u001b[0;32m     38\u001b[0m             \u001b[0mpredicted_ctr\u001b[0m \u001b[1;33m=\u001b[0m \u001b[0mnp\u001b[0m\u001b[1;33m.\u001b[0m\u001b[0msum\u001b[0m\u001b[1;33m(\u001b[0m\u001b[0mpredicted_k\u001b[0m\u001b[1;33m)\u001b[0m\u001b[1;33m\u001b[0m\u001b[0m\n\u001b[1;32m---> 39\u001b[1;33m             \u001b[0mmi\u001b[0m \u001b[1;33m+=\u001b[0m \u001b[1;33m(\u001b[0m\u001b[0minter_ctr\u001b[0m \u001b[1;33m/\u001b[0m \u001b[0mN\u001b[0m\u001b[1;33m)\u001b[0m \u001b[1;33m*\u001b[0m \u001b[0mnp\u001b[0m\u001b[1;33m.\u001b[0m\u001b[0mlog2\u001b[0m\u001b[1;33m(\u001b[0m\u001b[1;33m(\u001b[0m\u001b[0mN\u001b[0m \u001b[1;33m*\u001b[0m \u001b[0minter_ctr\u001b[0m\u001b[1;33m)\u001b[0m \u001b[1;33m/\u001b[0m \u001b[1;33m(\u001b[0m\u001b[0mtrue_ctr\u001b[0m \u001b[1;33m*\u001b[0m \u001b[0mpredicted_ctr\u001b[0m\u001b[1;33m)\u001b[0m \u001b[1;33m+\u001b[0m \u001b[0meps\u001b[0m\u001b[1;33m)\u001b[0m\u001b[1;33m\u001b[0m\u001b[0m\n\u001b[0m\u001b[0;32m     40\u001b[0m \u001b[1;33m\u001b[0m\u001b[0m\n\u001b[0;32m     41\u001b[0m     \u001b[0mnmi\u001b[0m \u001b[1;33m=\u001b[0m \u001b[0mmi\u001b[0m \u001b[1;33m/\u001b[0m \u001b[0mdenominator\u001b[0m\u001b[1;33m\u001b[0m\u001b[0m\n",
      "\u001b[1;31mZeroDivisionError\u001b[0m: float division by zero"
     ]
    }
   ],
   "source": [
    "# Evaluate clustering performance using Normalized Mutual Information\n",
    "def get_NMI(true_cluster, predicted_cluster, K):\n",
    "    \"\"\"\n",
    "    Get Normalized Mutual Information\n",
    "    \n",
    "    Args:\n",
    "        true_cluster: a vector of shape (N) that has elements assigned true cluster for each data point\n",
    "        predicted_cluster: a vector of shape (N) that has elements assigned predicted cluster for each data point\n",
    "        K: the number of clusters\n",
    "    Returns:\n",
    "        nmi: Normalized mutual information\n",
    "    \"\"\"\n",
    "    # very little value to prevent logarithm from -infinity\n",
    "    eps = 1e-10\n",
    "    \n",
    "    # Define the number of data\n",
    "    N = float(data.shape[0])\n",
    "    \n",
    "    true_entropy = 0\n",
    "    predicted_entropy = 0\n",
    "    # Compute entropy for ground truth clusters and predicted clusters\n",
    "    for k in range(K):\n",
    "        true_ctr = np.sum(true_cluster == k)\n",
    "        predicted_ctr = np.sum(predicted_cluster == k)\n",
    "        true_entropy += -(true_ctr / N) * np.log2(true_ctr / N + eps)\n",
    "        predicted_entropy += -(predicted_ctr / N) * np.log2(predicted_ctr / N + eps)\n",
    "    \n",
    "    denominator = (true_entropy + predicted_entropy) / 2.\n",
    "    \n",
    "    mi = 0\n",
    "    # Compute mutual information between ground truth clusters and predicted clusters\n",
    "    for i in range(K):\n",
    "        for j in range(K):\n",
    "            true_k = true_cluster == i\n",
    "            predicted_k = predicted_cluster == j\n",
    "            inter_ctr = np.sum(true_k & predicted_k)\n",
    "            true_ctr = np.sum(true_k)\n",
    "            predicted_ctr = np.sum(predicted_k)\n",
    "            mi += (inter_ctr / N) * np.log2((N * inter_ctr) / (true_ctr * predicted_ctr) + eps)\n",
    "    \n",
    "    nmi = mi / denominator\n",
    "    \n",
    "    return nmi\n",
    "\n",
    "true_cluster = np.concatenate((np.zeros(data1_true.shape[0]), np.ones(data2_true.shape[0])))\n",
    "nmi = get_NMI(true_cluster, predicted_cluster, K)\n",
    "print(\"Nomrlized Mutual Information: {}\".format(nmi))"
   ]
  }
 ],
 "metadata": {
  "kernelspec": {
   "display_name": "Python 2",
   "language": "python",
   "name": "python2"
  },
  "language_info": {
   "codemirror_mode": {
    "name": "ipython",
    "version": 2
   },
   "file_extension": ".py",
   "mimetype": "text/x-python",
   "name": "python",
   "nbconvert_exporter": "python",
   "pygments_lexer": "ipython2",
   "version": "2.7.13"
  }
 },
 "nbformat": 4,
 "nbformat_minor": 2
}
